{
  "nbformat": 4,
  "nbformat_minor": 0,
  "metadata": {
    "colab": {
      "provenance": [],
      "authorship_tag": "ABX9TyNs5BpjQ+jpTsUr2VlsEDTU",
      "include_colab_link": true
    },
    "kernelspec": {
      "name": "python3",
      "display_name": "Python 3"
    },
    "language_info": {
      "name": "python"
    }
  },
  "cells": [
    {
      "cell_type": "markdown",
      "metadata": {
        "id": "view-in-github",
        "colab_type": "text"
      },
      "source": [
        "<a href=\"https://colab.research.google.com/github/modanmodern/modanmodern/blob/tensorflow-study/tensorflowstudy.ipynb\" target=\"_parent\"><img src=\"https://colab.research.google.com/assets/colab-badge.svg\" alt=\"Open In Colab\"/></a>"
      ]
    },
    {
      "cell_type": "code",
      "execution_count": null,
      "metadata": {
        "colab": {
          "base_uri": "https://localhost:8080/"
        },
        "id": "jP9On5_sEzej",
        "outputId": "f50ffe1b-372c-4e9a-cc90-1411e91bb862"
      },
      "outputs": [
        {
          "output_type": "stream",
          "name": "stdout",
          "text": [
            "TF version: 2.15.0\n",
            "Hub version: 0.16.1\n",
            "GPU is NOT AVAILABLE\n"
          ]
        }
      ],
      "source": [
        "import itertools\n",
        "import os\n",
        "\n",
        "import matplotlib.pylab as plt\n",
        "import numpy as np\n",
        "\n",
        "import tensorflow as tf\n",
        "import tensorflow_hub as hub\n",
        "\n",
        "print(\"TF version:\", tf.__version__)\n",
        "print(\"Hub version:\", hub.__version__)\n",
        "print(\"GPU is\", \"available\" if tf.config.list_physical_devices('GPU') else \"NOT AVAILABLE\")"
      ]
    },
    {
      "cell_type": "code",
      "source": [
        "\n",
        "encoder_block = tf.nlp.layers.TransformerEncoderBlock(\n",
        "        num_attention_heads=2, inner_dim=10, inner_activation='relu')\n",
        "\n",
        "batch, length, hidden_size = 2, 3, 4\n",
        "qkv_inputs = tf.ones((batch, length, hidden_size), tf.float32)\n",
        "attention_mask = None\n",
        "outputs = encoder_block([qkv_inputs, attention_mask])\n",
        "print(encoder_block.name)\n",
        "print(outputs)\n",
        ""
      ],
      "metadata": {
        "id": "M3vDI7dY6dFQ",
        "outputId": "0850c061-9fc5-49a9-e908-6869512b5a75",
        "colab": {
          "base_uri": "https://localhost:8080/",
          "height": 211
        }
      },
      "execution_count": 1,
      "outputs": [
        {
          "output_type": "error",
          "ename": "NameError",
          "evalue": "name 'tfm' is not defined",
          "traceback": [
            "\u001b[0;31m---------------------------------------------------------------------------\u001b[0m",
            "\u001b[0;31mNameError\u001b[0m                                 Traceback (most recent call last)",
            "\u001b[0;32m<ipython-input-1-8b17bd9eda71>\u001b[0m in \u001b[0;36m<cell line: 1>\u001b[0;34m()\u001b[0m\n\u001b[0;32m----> 1\u001b[0;31m encoder_block = tfm.nlp.layers.TransformerEncoderBlock(\n\u001b[0m\u001b[1;32m      2\u001b[0m         num_attention_heads=2, inner_dim=10, inner_activation='relu')\n\u001b[1;32m      3\u001b[0m \u001b[0;34m\u001b[0m\u001b[0m\n\u001b[1;32m      4\u001b[0m \u001b[0mbatch\u001b[0m\u001b[0;34m,\u001b[0m \u001b[0mlength\u001b[0m\u001b[0;34m,\u001b[0m \u001b[0mhidden_size\u001b[0m \u001b[0;34m=\u001b[0m \u001b[0;36m2\u001b[0m\u001b[0;34m,\u001b[0m \u001b[0;36m3\u001b[0m\u001b[0;34m,\u001b[0m \u001b[0;36m4\u001b[0m\u001b[0;34m\u001b[0m\u001b[0;34m\u001b[0m\u001b[0m\n\u001b[1;32m      5\u001b[0m \u001b[0mqkv_inputs\u001b[0m \u001b[0;34m=\u001b[0m \u001b[0mtf\u001b[0m\u001b[0;34m.\u001b[0m\u001b[0mones\u001b[0m\u001b[0;34m(\u001b[0m\u001b[0;34m(\u001b[0m\u001b[0mbatch\u001b[0m\u001b[0;34m,\u001b[0m \u001b[0mlength\u001b[0m\u001b[0;34m,\u001b[0m \u001b[0mhidden_size\u001b[0m\u001b[0;34m)\u001b[0m\u001b[0;34m,\u001b[0m \u001b[0mtf\u001b[0m\u001b[0;34m.\u001b[0m\u001b[0mfloat32\u001b[0m\u001b[0;34m)\u001b[0m\u001b[0;34m\u001b[0m\u001b[0;34m\u001b[0m\u001b[0m\n",
            "\u001b[0;31mNameError\u001b[0m: name 'tfm' is not defined"
          ]
        }
      ]
    },
    {
      "cell_type": "code",
      "source": [
        "!pip install tensorflow-text\n",
        "!pip install tensorflow-hub\n",
        "!pip install tensorflow-datasets\n",
        "!pip3 install -q tf-models-nightly\n",
        "# Fix Colab default opencv problem\n",
        "!pip3 install -q opencv-python-headless==4.1.2.30\n",
        "\n",
        "\n",
        "import numpy as np\n",
        "import tensorflow as tf\n",
        "import tensorflow_models as tfm\n",
        "import tensorflow_text as tf_text\n",
        "import tensorflow_hub as hub\n",
        "import tensorflow_datasets as tfds\n",
        "\n",
        "encoder_block = tfm.keras.layers.TransformerEncoderBlock(\n",
        "        num_attention_heads=2, inner_dim=10, inner_activation='relu')\n",
        "\n",
        "batch, length, hidden_size = 2, 3, 4\n",
        "qkv_inputs = tf.ones((batch, length, hidden_size), tf.float32)\n",
        "attention_mask = None\n",
        "outputs = encoder_block([qkv_inputs, attention_mask])\n",
        "print(encoder_block.name)\n",
        "print(outputs)"
      ],
      "metadata": {
        "id": "JPms4UxpD6f8"
      },
      "execution_count": null,
      "outputs": []
    },
    {
      "cell_type": "code",
      "source": [],
      "metadata": {
        "id": "gvIv_VF_GSxz"
      },
      "execution_count": null,
      "outputs": []
    },
    {
      "cell_type": "code",
      "source": [
        "print(tf.__version__)\n",
        "print(tf_text.__version__)"
      ],
      "metadata": {
        "id": "kAfqFzewFr_j",
        "outputId": "a1c03b9f-47cc-4b38-e1df-55337f9cf52e",
        "colab": {
          "base_uri": "https://localhost:8080/",
          "height": 176
        }
      },
      "execution_count": 4,
      "outputs": [
        {
          "output_type": "stream",
          "name": "stdout",
          "text": [
            "2.15.0\n"
          ]
        },
        {
          "output_type": "error",
          "ename": "NameError",
          "evalue": "name 'tf_text' is not defined",
          "traceback": [
            "\u001b[0;31m---------------------------------------------------------------------------\u001b[0m",
            "\u001b[0;31mNameError\u001b[0m                                 Traceback (most recent call last)",
            "\u001b[0;32m<ipython-input-4-facaf064c052>\u001b[0m in \u001b[0;36m<cell line: 2>\u001b[0;34m()\u001b[0m\n\u001b[1;32m      1\u001b[0m \u001b[0mprint\u001b[0m\u001b[0;34m(\u001b[0m\u001b[0mtf\u001b[0m\u001b[0;34m.\u001b[0m\u001b[0m__version__\u001b[0m\u001b[0;34m)\u001b[0m\u001b[0;34m\u001b[0m\u001b[0;34m\u001b[0m\u001b[0m\n\u001b[0;32m----> 2\u001b[0;31m \u001b[0mprint\u001b[0m\u001b[0;34m(\u001b[0m\u001b[0mtf_text\u001b[0m\u001b[0;34m.\u001b[0m\u001b[0m__version__\u001b[0m\u001b[0;34m)\u001b[0m\u001b[0;34m\u001b[0m\u001b[0;34m\u001b[0m\u001b[0m\n\u001b[0m",
            "\u001b[0;31mNameError\u001b[0m: name 'tf_text' is not defined"
          ]
        }
      ]
    },
    {
      "cell_type": "code",
      "source": [],
      "metadata": {
        "id": "ce9x1VwhGUVw"
      },
      "execution_count": null,
      "outputs": []
    },
    {
      "cell_type": "code",
      "source": [
        "import numpy as np\n",
        "import tensorflow as tf\n",
        "import tensorflow_text as tf_text\n",
        "import tensorflow_hub as hub\n",
        "import tensorflow_datasets as tfds\n",
        "import tensorflow_models as tfm\n",
        "\n",
        "print(tf.__version__)\n",
        "print(tf_text.__version__)\n",
        "print(hub.__version__)\n",
        "\n",
        "print(\"Top-level modules: \", dir(tfm))\n",
        "print(\"NLP modules: \", dir(tfm.nlp))\n",
        "print(\"Vision modules: \", dir(tfm.vision))\n",
        "\n",
        "encoder_block = tfm.nlp.layers.TransformerEncoderBlock(\n",
        "        num_attention_heads=2, inner_dim=10, inner_activation='relu')\n",
        "\n",
        "batch, length, hidden_size = 2, 3, 4\n",
        "qkv_inputs = tf.ones((batch, length, hidden_size), tf.float32)\n",
        "attention_mask = None\n",
        "outputs = encoder_block([qkv_inputs, attention_mask])\n",
        "print(encoder_block.name)\n",
        "print(outputs)"
      ],
      "metadata": {
        "id": "5HLOZFq-GlsQ",
        "outputId": "adc1ed83-3bad-46a6-8225-a4f490419d26",
        "colab": {
          "base_uri": "https://localhost:8080/"
        }
      },
      "execution_count": 5,
      "outputs": [
        {
          "output_type": "stream",
          "name": "stdout",
          "text": [
            "2.17.0-dev20240223\n",
            "2.17.0-dev20240223\n",
            "0.17.0.dev\n",
            "Top-level modules:  ['__builtins__', '__cached__', '__doc__', '__file__', '__loader__', '__name__', '__package__', '__path__', '__spec__', 'core', 'hyperparams', 'nlp', 'optimization', 'utils', 'vision']\n",
            "NLP modules:  ['__builtins__', '__cached__', '__doc__', '__file__', '__loader__', '__name__', '__package__', '__path__', '__spec__', 'encoders', 'layers', 'losses', 'models', 'networks', 'ops', 'serving_modules', 'tasks']\n",
            "Vision modules:  ['ImageClassificationTask', 'MaskRCNNTask', 'RetinaNetTask', 'SemanticSegmentationTask', 'VideoClassificationTask', '__builtins__', '__cached__', '__doc__', '__file__', '__loader__', '__name__', '__package__', '__path__', '__spec__', 'anchor', 'anchor_generator', 'augment', 'backbones', 'box_matcher', 'box_ops', 'classification_model', 'configs', 'decoders', 'factory', 'factory_3d', 'heads', 'image_classification', 'iou_similarity', 'layers', 'mask_ops', 'maskrcnn', 'maskrcnn_model', 'models', 'nms', 'preprocess_ops', 'preprocess_ops_3d', 'retinanet', 'retinanet_model', 'sampling_ops', 'segmentation_model', 'semantic_segmentation', 'serving', 'spatial_transform_ops', 'target_gather', 'video_classification', 'video_classification_model']\n",
            "transformer_encoder_block\n",
            "tf.Tensor(\n",
            "[[[-0.6684673  -1.2215396   1.3157654   0.57424164]\n",
            "  [-0.6684673  -1.2215396   1.3157654   0.57424164]\n",
            "  [-0.6684673  -1.2215396   1.3157654   0.57424164]]\n",
            "\n",
            " [[-0.6684675  -1.2215396   1.3157654   0.57424164]\n",
            "  [-0.6684675  -1.2215396   1.3157654   0.57424164]\n",
            "  [-0.6684675  -1.2215396   1.3157654   0.57424164]]], shape=(2, 3, 4), dtype=float32)\n"
          ]
        }
      ]
    }
  ]
}